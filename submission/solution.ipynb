{
 "cells": [
  {
   "cell_type": "markdown",
   "metadata": {},
   "source": [
    "# Multidimensional Regression on LHC collision jets Submission\n",
    "\n",
    "Add your solution below!\n",
    "\n",
    "To run the notebook in VS Code, you can click on the `Run All` button in the toolbar. You may need to select the kernel to run. When prompted select `Python Environments` and then `.venv` (Should be starred).\n",
    "\n",
    "> Note: You can add dependencies to your virtual environment by running `aqora add <dependency name>` or editing the `pyproject.toml` at the root of the project\n",
    "\n",
    "Once you're ready, you can open a terminal by clicking `Terminal` and then `New Terminal` in the context bar at the very top. To test your solution, run\n",
    "\n",
    "```bash\n",
    "aqora test\n",
    "```\n",
    "\n",
    "Finally, once all the tests are passing, to submit to **Aqora** run\n",
    "\n",
    "```bash\n",
    "aqora upload\n",
    "```\n"
   ]
  },
  {
   "cell_type": "code",
   "metadata": {
    "ExecuteTime": {
     "end_time": "2025-02-16T13:40:59.044811Z",
     "start_time": "2025-02-16T13:40:59.016823Z"
    }
   },
   "source": [
    "import h5py\n",
    "from vector import Vector\n",
    "import pandas as pd\n",
    "jets_partons_fp ='/Users/gouthamarcot/Documents/personal/codebase/Quantum_Agoize/cern-2025-challenge-2/.aqora/data/data/pp-z-to-jets-500K-54167.h5'\n",
    "partons_fp = '/Users/gouthamarcot/Documents/personal/codebase/Quantum_Agoize/cern-2025-challenge-2/.aqora/data/data/pp-z-to-jets-500K-57246.h5'"
   ],
   "outputs": [],
   "execution_count": 51
  },
  {
   "metadata": {},
   "cell_type": "code",
   "outputs": [],
   "execution_count": null,
   "source": ""
  },
  {
   "metadata": {},
   "cell_type": "markdown",
   "source": "Custom LorentzVectors just a test"
  },
  {
   "metadata": {
    "ExecuteTime": {
     "end_time": "2025-02-16T13:40:59.371557Z",
     "start_time": "2025-02-16T13:40:59.364947Z"
    }
   },
   "cell_type": "code",
   "source": [
    "class LorentzVector:\n",
    "    def __init__(self, px, py, pz, E):\n",
    "        self.px = px\n",
    "        self.py = py\n",
    "        self.pz = pz\n",
    "        self.E = E\n",
    "\n",
    "    def pt(self):\n",
    "        return np.sqrt(self.px**2 + self.py**2)\n",
    "\n",
    "    def eta(self):\n",
    "        p = np.sqrt(self.px**2 + self.py**2 + self.pz**2)\n",
    "        return 0.5 * np.log((p + self.pz) / (p - self.pz))\n",
    "\n",
    "    def phi(self):\n",
    "        return np.arctan2(self.py, self.px)"
   ],
   "outputs": [],
   "execution_count": 52
  },
  {
   "metadata": {
    "ExecuteTime": {
     "end_time": "2025-02-16T13:41:00.887846Z",
     "start_time": "2025-02-16T13:41:00.857820Z"
    }
   },
   "cell_type": "code",
   "source": [
    "def compute_derived_quantities_partons(df):\n",
    "        results = []\n",
    "        for index, row in df.iterrows():\n",
    "            parton_1 = LorentzVector(px=row['parton_0_px'], py=row['parton_0_py'], pz=row['parton_0_pz'], E=row['parton_0_E'])\n",
    "            parton_2 = LorentzVector(px=row['parton_1_px'], py=row['parton_1_py'], pz=row['parton_1_pz'], E=row['parton_1_E'])\n",
    "            pt_1 = parton_1.pt()\n",
    "            pt_2 = parton_2.pt()\n",
    "            eta_1 = parton_1.eta()\n",
    "            eta_2 = parton_2.eta()\n",
    "            phi_1 = parton_1.phi()\n",
    "            phi_2 = parton_2.phi()\n",
    "            delta_r = compute_delta_r(eta_1, phi_1, eta_2, phi_2)\n",
    "            results.append({\n",
    "                'event_id': index,\n",
    "                'parton_1_pt': pt_1,\n",
    "                'parton_2_pt': pt_2,\n",
    "                'parton_1_eta': eta_1,\n",
    "                'parton_2_eta': eta_2,\n",
    "                'parton_1_phi': phi_1,\n",
    "                'parton_2_phi': phi_2,\n",
    "                'delta_r': delta_r\n",
    "            })\n",
    "\n",
    "        return pd.DataFrame(results)\n"
   ],
   "outputs": [],
   "execution_count": 53
  },
  {
   "metadata": {
    "ExecuteTime": {
     "end_time": "2025-02-16T13:43:43.285555Z",
     "start_time": "2025-02-16T13:43:43.220300Z"
    }
   },
   "cell_type": "code",
   "source": [
    "def compute_derived_quantities_jets(df, num_max_jets):\n",
    "        results = []\n",
    "        for index, row in df.iterrows():\n",
    "            jet_data = []\n",
    "            for j in range(num_max_jets):\n",
    "                if row[f'jet_{j}_px'] == 0 and row[f'jet_{j}_py'] == 0 and row[f'jet_{j}_pz'] == 0 and row[f'jet_{j}_E'] == 0:\n",
    "                    continue \n",
    "                jet = LorentzVector(px=row[f'jet_{j}_px'], py=row[f'jet_{j}_py'], pz=row[f'jet_{j}_pz'], E=row[f'jet_{j}_E'])\n",
    "                jet_data.append({\n",
    "                    f'jet_{j}_pt': jet.pt(),\n",
    "                    f'jet_{j}_eta': jet.eta(),\n",
    "                    f'jet_{j}_phi': jet.phi()\n",
    "                })\n",
    "            results.append({'event_id': index, **{k: v for d in jet_data for k, v in d.items()}})\n",
    "\n",
    "        return pd.DataFrame(results)"
   ],
   "outputs": [],
   "execution_count": 58
  },
  {
   "metadata": {
    "ExecuteTime": {
     "end_time": "2025-02-16T13:46:00.700585Z",
     "start_time": "2025-02-16T13:46:00.579184Z"
    }
   },
   "cell_type": "code",
   "source": [
    "def process_hep_data(file_path):\n",
    "    with h5py.File(file_path, 'r') as f:\n",
    "        print(f\"processing {file_path}\")\n",
    "        print(f'keys {f.keys()}')\n",
    "        if 'partons' in f:\n",
    "            print(\"processing partons\")\n",
    "            partons_data = f['partons'][:]\n",
    "            column_names = [f'parton_{i}_{component}' for i in range(partons_data.shape[1]) for component in ['px', 'py', 'pz', 'E', 'id', 'charge']]\n",
    "            partons_df = pd.DataFrame(partons_data.reshape(partons_data.shape[0], -1), columns=column_names)\n",
    "            partons_derived_df = compute_derived_quantities_partons(partons_df)\n",
    "            partons_df['event_id'] = np.arange(partons_data.shape[0])\n",
    "            partons_df = pd.merge(partons_df, partons_derived_df, on='event_id')\n",
    "            print(\"Partons DataFrame with Derived Quantities:\")\n",
    "            print(partons_df.head())\n",
    "        else:\n",
    "            print(\"Dataset 'partons' not found in the file.\")\n",
    "\n",
    "        if 'jets' in f:\n",
    "            print(\"processing jets\")\n",
    "            jets_data = f['jets'][:]\n",
    "            num_max_jets = jets_data.shape[1]\n",
    "            jet_column_names = [f'jet_{j}_{component}' for j in range(num_max_jets) for component in ['px', 'py', 'pz', 'E']]\n",
    "            jets_df = pd.DataFrame(jets_data.reshape(jets_data.shape[0], -1), columns=jet_column_names)\n",
    "            jets_derived_df = compute_derived_quantities_jets(jets_df, num_max_jets)\n",
    "            jets_df['event_id'] = np.arange(jets_df.shape[0])\n",
    "            jets_df = pd.merge(jets_df, jets_derived_df, on='event_id')\n",
    "            print(\"\\nJets DataFrame with Derived Quantities:\")\n",
    "            print(jets_df.head())\n",
    "        else:\n",
    "            print(\"Dataset 'jets' not found in the file.\")"
   ],
   "outputs": [],
   "execution_count": 62
  },
  {
   "metadata": {
    "ExecuteTime": {
     "end_time": "2025-02-16T13:46:02.667255Z",
     "start_time": "2025-02-16T13:46:02.639899Z"
    }
   },
   "cell_type": "code",
   "source": [
    "import numpy as np\n",
    "\n",
    "def compute_delta_r(eta1, phi1, eta2, phi2):\n",
    "    delta_eta = eta1 - eta2\n",
    "    delta_phi = phi1 - phi2\n",
    "    # Ensure delta_phi is within the range [-pi, pi]\n",
    "    delta_phi = (delta_phi + np.pi) % (2 * np.pi) - np.pi\n",
    "    delta_r = np.sqrt(delta_eta**2 + delta_phi**2)\n",
    "    return delta_r"
   ],
   "outputs": [],
   "execution_count": 63
  },
  {
   "metadata": {
    "ExecuteTime": {
     "end_time": "2025-02-16T13:47:30.220700Z",
     "start_time": "2025-02-16T13:46:12.712793Z"
    }
   },
   "cell_type": "code",
   "source": "process_hep_data(partons_fp)",
   "outputs": [
    {
     "name": "stdout",
     "output_type": "stream",
     "text": [
      "processing /Users/gouthamarcot/Documents/personal/codebase/Quantum_Agoize/cern-2025-challenge-2/.aqora/data/data/pp-z-to-jets-500K-57246.h5\n",
      "keys <KeysViewHDF5 ['jets', 'partons']>\n",
      "processing partons\n",
      "Partons DataFrame with Derived Quantities:\n",
      "   parton_0_px  parton_0_py  parton_0_pz   parton_0_E  parton_0_id  \\\n",
      "0    40.810952          0.0          0.0    40.810952         21.0   \n",
      "1   208.271873          0.0          0.0   208.271873         21.0   \n",
      "2  2214.297147          0.0          0.0  2214.297147          4.0   \n",
      "3  1106.889921          0.0          0.0  1106.889921          1.0   \n",
      "4    25.916341          0.0          0.0    25.916341         -3.0   \n",
      "\n",
      "   parton_0_charge  parton_1_px  parton_1_py  parton_1_pz  parton_1_E  \\\n",
      "0         0.000000   387.309839          0.0          0.0 -387.309839   \n",
      "1         0.000000    35.051356          0.0          0.0  -35.051356   \n",
      "2         0.666667     5.174153          0.0          0.0   -5.174153   \n",
      "3        -0.333333    13.732099          0.0          0.0  -13.732099   \n",
      "4         0.333333   281.707018          0.0          0.0 -281.707018   \n",
      "\n",
      "   parton_1_id  parton_1_charge  event_id  parton_1_pt  parton_2_pt  \\\n",
      "0         -1.0         0.333333         0    40.810952   387.309839   \n",
      "1         -3.0         0.333333         1   208.271873    35.051356   \n",
      "2         21.0         0.000000         2  2214.297147     5.174153   \n",
      "3         21.0         0.000000         3  1106.889921    13.732099   \n",
      "4         21.0         0.000000         4    25.916341   281.707018   \n",
      "\n",
      "   parton_1_eta  parton_2_eta  parton_1_phi  parton_2_phi  delta_r  \n",
      "0           0.0           0.0           0.0           0.0      0.0  \n",
      "1           0.0           0.0           0.0           0.0      0.0  \n",
      "2           0.0           0.0           0.0           0.0      0.0  \n",
      "3           0.0           0.0           0.0           0.0      0.0  \n",
      "4           0.0           0.0           0.0           0.0      0.0  \n",
      "processing jets\n",
      "\n",
      "Jets DataFrame with Derived Quantities:\n",
      "     jet_0_px   jet_0_py   jet_0_pz     jet_0_E    jet_1_px   jet_1_py  \\\n",
      "0  194.870739 -91.063337  41.534454 -166.897668  184.378151  64.518998   \n",
      "1   58.017076  40.861741 -32.759440   24.500017   72.913133 -29.885217   \n",
      "2  751.821956 -25.955197 -58.692741  748.961583  443.626517  -3.835782   \n",
      "3  152.633492 -64.014283 -49.307895  128.942250  611.141140  26.077515   \n",
      "4   97.753383  73.703157  17.988007  -60.983910  165.254667 -58.263754   \n",
      "\n",
      "    jet_1_pz     jet_1_E    jet_2_px   jet_2_py  ...  jet_1_phi    jet_2_pt  \\\n",
      "0 -34.988177 -168.962601   36.254109  35.354719  ...   0.336610   50.639081   \n",
      "1  39.901268   52.639460    0.000000   0.000000  ...  -0.388990         NaN   \n",
      "2  44.048994  441.242514  164.618276  19.224141  ...  -0.008646  165.736974   \n",
      "3  30.788756  609.784548    0.000000   0.000000  ...   0.042644         NaN   \n",
      "4  15.767257 -153.554955    0.000000   0.000000  ...  -0.338962         NaN   \n",
      "\n",
      "   jet_2_eta  jet_2_phi  jet_3_pt  jet_3_eta  jet_3_phi  jet_4_pt  jet_4_eta  \\\n",
      "0  -0.117196   0.772839       NaN        NaN        NaN       NaN        NaN   \n",
      "1        NaN        NaN       NaN        NaN        NaN       NaN        NaN   \n",
      "2  -0.139635   0.116254       NaN        NaN        NaN       NaN        NaN   \n",
      "3        NaN        NaN       NaN        NaN        NaN       NaN        NaN   \n",
      "4        NaN        NaN       NaN        NaN        NaN       NaN        NaN   \n",
      "\n",
      "   jet_4_phi  \n",
      "0        NaN  \n",
      "1        NaN  \n",
      "2        NaN  \n",
      "3        NaN  \n",
      "4        NaN  \n",
      "\n",
      "[5 rows x 36 columns]\n"
     ]
    }
   ],
   "execution_count": 64
  },
  {
   "cell_type": "code",
   "execution_count": null,
   "metadata": {},
   "outputs": [],
   "source": [
    "import numpy as np\n",
    "import pandas as pd\n",
    "\n",
    "rng = np.random.default_rng()\n",
    "\n",
    "solution = pd.DataFrame({\n",
    "    \"EventID\": np.arange(0, n_events),\n",
    "    \"n_jets_pred\": rng.integers(low=0, high=10, size=n_events),\n",
    "    \"leading_pt_pred\": rng.uniform(low=30, high=130, size=n_events),\n",
    "    \"subleading_pt_pred\": rng.uniform(low=30, high=130, size=n_events),\n",
    "})"
   ]
  },
  {
   "cell_type": "code",
   "execution_count": null,
   "metadata": {},
   "outputs": [],
   "source": [
    "import io\n",
    "\n",
    "output = io.StringIO()\n",
    "solution.to_csv(output)\n",
    "output = output.getvalue()"
   ]
  }
 ],
 "metadata": {
  "language_info": {
   "name": "python"
  },
  "kernelspec": {
   "name": "python3",
   "language": "python",
   "display_name": "Python 3 (ipykernel)"
  }
 },
 "nbformat": 4,
 "nbformat_minor": 2
}
