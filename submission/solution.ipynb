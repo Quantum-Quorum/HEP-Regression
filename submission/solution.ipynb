{
 "cells": [
  {
   "cell_type": "markdown",
   "metadata": {},
   "source": [
    "# Multidimensional Regression on LHC collision jets Submission\n",
    "\n",
    "Add your solution below!\n",
    "\n",
    "To run the notebook in VS Code, you can click on the `Run All` button in the toolbar. You may need to select the kernel to run. When prompted select `Python Environments` and then `.venv` (Should be starred).\n",
    "\n",
    "> Note: You can add dependencies to your virtual environment by running `aqora add <dependency name>` or editing the `pyproject.toml` at the root of the project\n",
    "\n",
    "Once you're ready, you can open a terminal by clicking `Terminal` and then `New Terminal` in the context bar at the very top. To test your solution, run\n",
    "\n",
    "```bash\n",
    "aqora test\n",
    "```\n",
    "\n",
    "Finally, once all the tests are passing, to submit to **Aqora** run\n",
    "\n",
    "```bash\n",
    "aqora upload\n",
    "```\n"
   ]
  },
  {
   "metadata": {},
   "cell_type": "markdown",
   "source": "## libraries"
  },
  {
   "cell_type": "code",
   "metadata": {
    "ExecuteTime": {
     "end_time": "2025-02-24T03:57:46.605471Z",
     "start_time": "2025-02-24T03:57:46.603113Z"
    }
   },
   "source": [
    "import h5py\n",
    "from vector import Vector\n",
    "import pandas as pd\n",
    "import numpy as np\n",
    "import matplotlib.pyplot as plt\n",
    "import os"
   ],
   "outputs": [],
   "execution_count": 63
  },
  {
   "metadata": {
    "ExecuteTime": {
     "end_time": "2025-02-24T03:57:46.609661Z",
     "start_time": "2025-02-24T03:57:46.607302Z"
    }
   },
   "cell_type": "code",
   "source": [
    "base_path = os.getcwd()\n",
    "data_path = base_path.replace('submission', 'data')\n",
    "output_path = base_path.replace('submission', 'datasets')\n",
    "partons_fp =f'{data_path}/pp-z-to-jets-500K-54167.h5'\n",
    "jets_partons_fp = f'{data_path}/pp-z-to-jets-500K-57246.h5' \n",
    "print(jets_partons_fp)\n",
    "print(partons_fp)"
   ],
   "outputs": [
    {
     "name": "stdout",
     "output_type": "stream",
     "text": [
      "/Users/gouthamarcot/Documents/personal/codebase/Quantum_Agoize/HEP-Regression/data/pp-z-to-jets-500K-57246.h5\n",
      "/Users/gouthamarcot/Documents/personal/codebase/Quantum_Agoize/HEP-Regression/data/pp-z-to-jets-500K-54167.h5\n"
     ]
    }
   ],
   "execution_count": 64
  },
  {
   "metadata": {},
   "cell_type": "markdown",
   "source": "Custom LorentzVectors just a test"
  },
  {
   "metadata": {
    "ExecuteTime": {
     "end_time": "2025-02-24T03:57:46.613729Z",
     "start_time": "2025-02-24T03:57:46.610868Z"
    }
   },
   "cell_type": "code",
   "source": [
    "class LorentzVector:\n",
    "    def __init__(self, px, py, pz, E):\n",
    "        self.px = px\n",
    "        self.py = py\n",
    "        self.pz = pz\n",
    "        self.E = E\n",
    "    # transverse momementum\n",
    "    def pt(self):\n",
    "        return np.sqrt(self.px**2 + self.py**2)\n",
    "    # pseudorapidity \n",
    "    def eta(self):\n",
    "        p = np.sqrt(self.px**2 + self.py**2 + self.pz**2)\n",
    "        return 0.5 * np.log((p + self.pz) / (p - self.pz))\n",
    "\n",
    "    def phi(self):\n",
    "        return np.arctan2(self.py, self.px)\n",
    "    \n",
    "    def inv_mass(self):\n",
    "        return np.sqrt(self.E - self.px**2 + self.py**2 + self.pz**2)"
   ],
   "outputs": [],
   "execution_count": 65
  },
  {
   "metadata": {
    "ExecuteTime": {
     "end_time": "2025-02-24T03:57:46.633375Z",
     "start_time": "2025-02-24T03:57:46.630468Z"
    }
   },
   "cell_type": "code",
   "source": [
    "def compute_derived_quantities_partons(df):\n",
    "        results = []\n",
    "        for index, row in df.iterrows():\n",
    "            parton_1 = LorentzVector(px=row['parton_0_px'], py=row['parton_0_py'], pz=row['parton_0_pz'], E=row['parton_0_E'])\n",
    "            parton_2 = LorentzVector(px=row['parton_1_px'], py=row['parton_1_py'], pz=row['parton_1_pz'], E=row['parton_1_E'])\n",
    "            pt_1 = parton_1.pt()\n",
    "            pt_2 = parton_2.pt()\n",
    "            eta_1 = parton_1.eta()\n",
    "            eta_2 = parton_2.eta()\n",
    "            phi_1 = parton_1.phi()\n",
    "            phi_2 = parton_2.phi()\n",
    "            delta_r = compute_delta_r(eta_1, phi_1, eta_2, phi_2)\n",
    "            results.append({\n",
    "                'event_id': index,\n",
    "                'parton_0_pt': pt_1,\n",
    "                'parton_1_pt': pt_2,\n",
    "                'parton_0_eta': eta_1,\n",
    "                'parton_1_eta': eta_2,\n",
    "                'parton_0_phi': phi_1,\n",
    "                'parton_1_phi': phi_2,\n",
    "                'delta_r': delta_r\n",
    "            })\n",
    "        res = pd.DataFrame(results)\n",
    "        return res\n"
   ],
   "outputs": [],
   "execution_count": 66
  },
  {
   "metadata": {
    "ExecuteTime": {
     "end_time": "2025-02-24T03:57:46.636769Z",
     "start_time": "2025-02-24T03:57:46.634302Z"
    }
   },
   "cell_type": "code",
   "source": [
    "def compute_derived_quantities_jets(df, num_max_jets):\n",
    "        results = []\n",
    "        for index, row in df.iterrows():\n",
    "            jet_data = []\n",
    "            for j in range(num_max_jets):\n",
    "                if row[f'jet_{j}_px'] == 0 and row[f'jet_{j}_py'] == 0 and row[f'jet_{j}_pz'] == 0 and row[f'jet_{j}_E'] == 0:\n",
    "                    continue \n",
    "                jet = LorentzVector(px=row[f'jet_{j}_px'], py=row[f'jet_{j}_py'], pz=row[f'jet_{j}_pz'], E=row[f'jet_{j}_E'])\n",
    "                jet_data.append({\n",
    "                    f'jet_{j}_pt': jet.pt(),\n",
    "                    f'jet_{j}_eta': jet.eta(),\n",
    "                    f'jet_{j}_phi': jet.phi()\n",
    "                })\n",
    "            results.append({'event_id': index, **{k: v for d in jet_data for k, v in d.items()}})\n",
    "\n",
    "        return pd.DataFrame(results)"
   ],
   "outputs": [],
   "execution_count": 67
  },
  {
   "metadata": {},
   "cell_type": "markdown",
   "source": [
    "## Parton jets relationship \n",
    "\n",
    "#### added to determing the relationship between the parton events and their respective jets"
   ]
  },
  {
   "metadata": {
    "ExecuteTime": {
     "end_time": "2025-02-24T03:57:46.642293Z",
     "start_time": "2025-02-24T03:57:46.640062Z"
    }
   },
   "cell_type": "code",
   "source": [
    "def analyze_parton_jet_relationship_to_csv(merged_df):\n",
    "    merged_df['pt_diff_1'] = merged_df['parton_1_pt'] - merged_df['jet_0_pt']\n",
    "    merged_df['pt_ratio_1'] = merged_df['parton_1_pt'] / merged_df['jet_0_pt']\n",
    "    merged_df['eta_diff_1'] = merged_df['parton_1_eta'] - merged_df['jet_0_eta']\n",
    "    merged_df['phi_diff_1'] = merged_df['parton_1_phi'] - merged_df['jet_0_phi']\n",
    "\n",
    "    merged_df['pt_diff_2'] = merged_df['parton_2_pt'] - merged_df['jet_1_pt']\n",
    "    merged_df['pt_ratio_2'] = merged_df['parton_2_pt'] / merged_df['jet_1_pt']\n",
    "    merged_df['eta_diff_2'] = merged_df['parton_2_eta'] - merged_df['jet_1_eta']\n",
    "    merged_df['phi_diff_2'] = merged_df['parton_2_phi'] - merged_df['jet_1_phi']\n",
    "    merged_df.to_csv(f\"{output_path}/parton_jet_relationships.csv\")\n",
    "    print(\"Parton-Jet Relationship DataFrame:\")"
   ],
   "outputs": [],
   "execution_count": 68
  },
  {
   "metadata": {
    "ExecuteTime": {
     "end_time": "2025-02-24T03:57:46.645667Z",
     "start_time": "2025-02-24T03:57:46.643118Z"
    }
   },
   "cell_type": "code",
   "source": [
    "def analyze_parton_jet_relationship(merged_df):\n",
    "    plt.figure(figsize=(12, 6))\n",
    "    plt.subplot(1, 2, 1)\n",
    "    plt.scatter(merged_df['parton_1_pt'], merged_df['jet_0_pt'], alpha=0.5, label='Parton 1 vs Jet 0')\n",
    "    plt.xlabel('Parton 1 pT')\n",
    "    plt.ylabel('Leading Jet pT')\n",
    "    plt.legend()\n",
    "    plt.subplot(1, 2, 2)\n",
    "    plt.scatter(merged_df['parton_2_pt'], merged_df['jet_1_pt'], alpha=0.5, label='Parton 2 vs Jet 1')\n",
    "    plt.xlabel('Parton 2 pT')\n",
    "    plt.ylabel('Subleading Jet pT')\n",
    "    plt.legend()\n",
    "    plt.tight_layout()\n",
    "    plt.show()"
   ],
   "outputs": [],
   "execution_count": 69
  },
  {
   "metadata": {
    "ExecuteTime": {
     "end_time": "2025-02-24T03:57:46.653800Z",
     "start_time": "2025-02-24T03:57:46.647460Z"
    }
   },
   "cell_type": "code",
   "source": [
    "def process_hep_data(file_path):\n",
    "    with h5py.File(file_path, 'r') as f:\n",
    "        print(f\"Processing {file_path}\")\n",
    "        data_file_name = file_path.split('/')[-1]\n",
    "        data_file = data_file_name.split('-')[-1]\n",
    "        print(f'Keys {f.keys()}')\n",
    "        if 'partons' in f and 'jets' in f:\n",
    "            print(f\"Processing partons and jets {data_file}\")\n",
    "            partons_data = f['partons'][:]\n",
    "            column_names = [f'parton_{i}_{component}' for i in range(partons_data.shape[1]) for component in ['px', 'py', 'pz', 'E', 'id', 'charge']]\n",
    "            partons_df = pd.DataFrame(partons_data.reshape(partons_data.shape[0], -1), columns=column_names)\n",
    "            partons_derived_df = compute_derived_quantities_partons(partons_df)\n",
    "            partons_df['event_id'] = np.arange(partons_data.shape[0])\n",
    "            partons_df = pd.merge(partons_df, partons_derived_df, on='event_id')\n",
    "            partons_df.to_csv(f\"{output_path}/{data_file}_partons_df.csv\")\n",
    "            print(\"Partons DataFrame with Derived Quantities: exported\")\n",
    "            jets_data = f['jets'][:]\n",
    "            num_max_jets = jets_data.shape[1]\n",
    "            jet_column_names = [f'jet_{j}_{component}' for j in range(num_max_jets) for component in ['px', 'py', 'pz', 'E']]\n",
    "            jets_df = pd.DataFrame(jets_data.reshape(jets_data.shape[0], -1), columns=jet_column_names)\n",
    "            jets_derived_df = compute_derived_quantities_jets(jets_df, num_max_jets)\n",
    "            jets_df['event_id'] = np.arange(jets_df.shape[0])\n",
    "            jets_df = pd.merge(jets_df, jets_derived_df, on='event_id')\n",
    "            jets_df.to_csv(f\"{output_path}/{data_file}_jets_df.csv\")\n",
    "            print(\"Jets DataFrame with Derived Quantities: exported\")\n",
    "            merged_df = pd.merge(partons_df, jets_df, on='event_id')\n",
    "            analyze_parton_jet_relationship(merged_df)\n",
    "            analyze_parton_jet_relationship_to_csv(merged_df)\n",
    "        elif 'partons' in f:\n",
    "            print(f\"Processing partons {data_file}\")\n",
    "            partons_data = f['partons'][:]\n",
    "            column_names = [f'parton_{i}_{component}' for i in range(partons_data.shape[1]) for component in ['px', 'py', 'pz', 'E', 'id', 'charge']]\n",
    "            partons_df = pd.DataFrame(partons_data.reshape(partons_data.shape[0], -1), columns=column_names)\n",
    "            partons_derived_df = compute_derived_quantities_partons(partons_df)\n",
    "            partons_df['event_id'] = np.arange(partons_data.shape[0])\n",
    "            partons_df = pd.merge(partons_df, partons_derived_df, on='event_id')\n",
    "            partons_df.to_csv(f\"{output_path}/{data_file}_partons_df.csv\")\n",
    "            print(\"Partons DataFrame with Derived Quantities:\")\n",
    "        elif 'jets' in f:\n",
    "            print(f\"Processing jets {data_file}\")\n",
    "            jets_data = f['jets'][:]\n",
    "            num_max_jets = jets_data.shape[1]\n",
    "            jet_column_names = [f'jet_{j}_{component}' for j in range(num_max_jets) for component in ['px', 'py', 'pz', 'E']]\n",
    "            jets_df = pd.DataFrame(jets_data.reshape(jets_data.shape[0], -1), columns=jet_column_names)\n",
    "            jets_derived_df = compute_derived_quantities_jets(jets_df, num_max_jets)\n",
    "            jets_df['event_id'] = np.arange(jets_df.shape[0])\n",
    "            jets_df = pd.merge(jets_df, jets_derived_df, on='event_id')\n",
    "            jets_df.to_csv(f\"{output_path}/{data_file}_jets_df.csv\")\n",
    "            print(\"Jets DataFrame with Derived Quantities:\")\n",
    "        else:\n",
    "            print(\"Neither 'partons' nor 'jets' dataset found in the file.\")\n"
   ],
   "outputs": [],
   "execution_count": 70
  },
  {
   "metadata": {
    "ExecuteTime": {
     "end_time": "2025-02-24T03:57:46.656162Z",
     "start_time": "2025-02-24T03:57:46.654395Z"
    }
   },
   "cell_type": "code",
   "source": [
    "def compute_delta_r(eta1, phi1, eta2, phi2):\n",
    "    delta_eta = eta1 - eta2\n",
    "    delta_phi = phi1 - phi2\n",
    "    delta_phi = (delta_phi + np.pi) % (2 * np.pi) - np.pi\n",
    "    delta_r = np.sqrt(delta_eta**2 + delta_phi**2)\n",
    "    return delta_r"
   ],
   "outputs": [],
   "execution_count": 71
  },
  {
   "metadata": {},
   "cell_type": "markdown",
   "source": "## partons-jets (parton-level) data"
  },
  {
   "metadata": {
    "jupyter": {
     "is_executing": true
    },
    "ExecuteTime": {
     "start_time": "2025-02-24T03:57:46.657142Z"
    }
   },
   "cell_type": "code",
   "source": "process_hep_data(partons_fp)",
   "outputs": [
    {
     "name": "stdout",
     "output_type": "stream",
     "text": [
      "Processing /Users/gouthamarcot/Documents/personal/codebase/Quantum_Agoize/HEP-Regression/data/pp-z-to-jets-500K-54167.h5\n",
      "Keys <KeysViewHDF5 ['partons']>\n",
      "Processing partons 54167.h5\n"
     ]
    }
   ],
   "execution_count": null
  },
  {
   "metadata": {
    "jupyter": {
     "is_executing": true
    }
   },
   "cell_type": "code",
   "source": "process_hep_data(jets_partons_fp)",
   "outputs": [],
   "execution_count": null
  },
  {
   "metadata": {},
   "cell_type": "markdown",
   "source": "### Data Verfiication for jet : partons\n"
  },
  {
   "metadata": {
    "jupyter": {
     "is_executing": true
    }
   },
   "cell_type": "code",
   "source": "",
   "outputs": [],
   "execution_count": null
  },
  {
   "cell_type": "code",
   "metadata": {
    "jupyter": {
     "is_executing": true
    }
   },
   "source": [
    "import numpy as np\n",
    "import pandas as pd\n",
    "\n",
    "rng = np.random.default_rng()\n",
    "\n",
    "solution = pd.DataFrame({\n",
    "    \"EventID\": np.arange(0, n_events),\n",
    "    \"n_jets_pred\": rng.integers(low=0, high=10, size=n_events),\n",
    "    \"leading_pt_pred\": rng.uniform(low=30, high=130, size=n_events),\n",
    "    \"subleading_pt_pred\": rng.uniform(low=30, high=130, size=n_events),\n",
    "})"
   ],
   "outputs": [],
   "execution_count": null
  },
  {
   "cell_type": "code",
   "metadata": {
    "jupyter": {
     "is_executing": true
    }
   },
   "source": [
    "import io\n",
    "\n",
    "output = io.StringIO()\n",
    "solution.to_csv(output)\n",
    "output = output.getvalue()"
   ],
   "outputs": [],
   "execution_count": null
  }
 ],
 "metadata": {
  "language_info": {
   "name": "python"
  },
  "kernelspec": {
   "name": "python3",
   "language": "python",
   "display_name": "Python 3 (ipykernel)"
  }
 },
 "nbformat": 4,
 "nbformat_minor": 2
}
